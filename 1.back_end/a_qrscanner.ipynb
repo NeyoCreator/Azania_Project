{
 "cells": [
  {
   "cell_type": "markdown",
   "metadata": {},
   "source": [
    "#### __GOAL__\n",
    "###### __1.OBTAIN DATA__\n",
    "######  __2.STORE DATA QR CODE__"
   ]
  },
  {
   "cell_type": "code",
   "execution_count": null,
   "metadata": {},
   "outputs": [],
   "source": []
  }
 ],
 "metadata": {
  "language_info": {
   "name": "python"
  },
  "orig_nbformat": 4
 },
 "nbformat": 4,
 "nbformat_minor": 2
}
